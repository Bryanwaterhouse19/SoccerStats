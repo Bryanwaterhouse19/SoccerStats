{
  "nbformat": 4,
  "nbformat_minor": 0,
  "metadata": {
    "colab": {
      "name": "Max_Bryan_Scrape_of_FBref.ipynb",
      "provenance": [],
      "collapsed_sections": [],
      "include_colab_link": true
    },
    "kernelspec": {
      "name": "python3",
      "display_name": "Python 3"
    }
  },
  "cells": [
    {
      "cell_type": "markdown",
      "metadata": {
        "id": "view-in-github",
        "colab_type": "text"
      },
      "source": [
        "<a href=\"https://colab.research.google.com/github/Bryanwaterhouse19/SoccerStats/blob/main/Max_Bryan_Scrape_of_FBref.ipynb\" target=\"_parent\"><img src=\"https://colab.research.google.com/assets/colab-badge.svg\" alt=\"Open In Colab\"/></a>"
      ]
    },
    {
      "cell_type": "markdown",
      "source": [
        "##THE FOOTBALL REFERENCE WEB SCRAPER"
      ],
      "metadata": {
        "id": "XABRtP9J5u5q"
      }
    },
    {
      "cell_type": "markdown",
      "metadata": {
        "id": "9zGOV7uSk8ZT"
      },
      "source": [
        "This notebook is to scrape football data from fbref.com\n",
        "\n",
        "Much of the scraping code is taken from this repository: https://github.com/chmartin/FBref_EPL.\n",
        "\n",
        "Run the first cell and then the further cells to get data for whichever leagues you want.\n"
      ]
    },
    {
      "cell_type": "markdown",
      "source": [
        "##This is the segment of code that establishes the functions we will use to scrape the web data from FBref.com"
      ],
      "metadata": {
        "id": "7Lq7kaVWDSm-"
      }
    },
    {
      "cell_type": "code",
      "metadata": {
        "id": "2qYGN7pfk3gK"
      },
      "source": [
        "#These are the lists we will need to refer to later when creating our dataframes. These lists may be used as the column names for the dataframes\n",
        "\n",
        "#standard(stats)\n",
        "stats = [\"player\",\"nationality\",\"position\",\"squad\",\"age\",\"birth_year\",\"games\",\"games_starts\",\"minutes\",\"goals\",\"assists\",\"pens_made\",\"pens_att\",\"cards_yellow\",\"cards_red\",\"goals_per90\",\"assists_per90\",\"goals_assists_per90\",\"goals_pens_per90\",\"goals_assists_pens_per90\",\"xg\",\"npxg\",\"xa\",\"xg_per90\",\"xa_per90\",\"xg_xa_per90\",\"npxg_per90\",\"npxg_xa_per90\"]\n",
        "stats3 = [\"players_used\",\"possession\",\"games\",\"games_starts\",\"minutes\",\"goals\",\"assists\",\"pens_made\",\"pens_att\",\"cards_yellow\",\"cards_red\",\"goals_per90\",\"assists_per90\",\"goals_assists_per90\",\"goals_pens_per90\",\"goals_assists_pens_per90\",\"xg\",\"npxg\",\"xa\",\"xg_per90\",\"xa_per90\",\"xg_xa_per90\",\"npxg_per90\",\"npxg_xa_per90\"] \n",
        "#goalkeeping(keepers)\n",
        "keepers = [\"player\",\"nationality\",\"position\",\"squad\",\"age\",\"birth_year\",\"games_gk\",\"games_starts_gk\",\"minutes_gk\",\"goals_against_gk\",\"goals_against_per90_gk\",\"shots_on_target_against\",\"saves\",\"save_pct\",\"wins_gk\",\"draws_gk\",\"losses_gk\",\"clean_sheets\",\"clean_sheets_pct\",\"pens_att_gk\",\"pens_allowed\",\"pens_saved\",\"pens_missed_gk\"]\n",
        "keepers3 = [\"players_used\",\"games_gk\",\"games_starts_gk\",\"minutes_gk\",\"goals_against_gk\",\"goals_against_per90_gk\",\"shots_on_target_against\",\"saves\",\"save_pct\",\"wins_gk\",\"draws_gk\",\"losses_gk\",\"clean_sheets\",\"clean_sheets_pct\",\"pens_att_gk\",\"pens_allowed\",\"pens_saved\",\"pens_missed_gk\"]\n",
        "#advance goalkeeping(keepersadv)\n",
        "keepersadv = [\"player\",\"nationality\",\"position\",\"squad\",\"age\",\"birth_year\",\"minutes_90s\",\"goals_against_gk\",\"pens_allowed\",\"free_kick_goals_against_gk\",\"corner_kick_goals_against_gk\",\"own_goals_against_gk\",\"psxg_gk\",\"psnpxg_per_shot_on_target_against\",\"psxg_net_gk\",\"psxg_net_per90_gk\",\"passes_completed_launched_gk\",\"passes_launched_gk\",\"passes_pct_launched_gk\",\"passes_gk\",\"passes_throws_gk\",\"pct_passes_launched_gk\",\"passes_length_avg_gk\",\"goal_kicks\",\"pct_goal_kicks_launched\",\"goal_kick_length_avg\",\"crosses_gk\",\"crosses_stopped_gk\",\"crosses_stopped_pct_gk\",\"def_actions_outside_pen_area_gk\",\"def_actions_outside_pen_area_per90_gk\",\"avg_distance_def_actions_gk\"]\n",
        "keepersadv2 = [\"minutes_90s\",\"goals_against_gk\",\"pens_allowed\",\"free_kick_goals_against_gk\",\"corner_kick_goals_against_gk\",\"own_goals_against_gk\",\"psxg_gk\",\"psnpxg_per_shot_on_target_against\",\"psxg_net_gk\",\"psxg_net_per90_gk\",\"passes_completed_launched_gk\",\"passes_launched_gk\",\"passes_pct_launched_gk\",\"passes_gk\",\"passes_throws_gk\",\"pct_passes_launched_gk\",\"passes_length_avg_gk\",\"goal_kicks\",\"pct_goal_kicks_launched\",\"goal_kick_length_avg\",\"crosses_gk\",\"crosses_stopped_gk\",\"crosses_stopped_pct_gk\",\"def_actions_outside_pen_area_gk\",\"def_actions_outside_pen_area_per90_gk\",\"avg_distance_def_actions_gk\"]\n",
        "#shooting(shooting)\n",
        "shooting = [\"player\",\"nationality\",\"position\",\"squad\",\"age\",\"birth_year\",\"minutes_90s\",\"goals\",\"pens_made\",\"pens_att\",\"shots_total\",\"shots_on_target\",\"shots_free_kicks\",\"shots_on_target_pct\",\"shots_total_per90\",\"shots_on_target_per90\",\"goals_per_shot\",\"goals_per_shot_on_target\",\"xg\",\"npxg\",\"npxg_per_shot\",\"xg_net\",\"npxg_net\"]\n",
        "shooting2 = [\"minutes_90s\",\"goals\",\"pens_made\",\"pens_att\",\"shots_total\",\"shots_on_target\",\"shots_free_kicks\",\"shots_on_target_pct\",\"shots_total_per90\",\"shots_on_target_per90\",\"goals_per_shot\",\"goals_per_shot_on_target\",\"xg\",\"npxg\",\"npxg_per_shot\",\"xg_net\",\"npxg_net\"]\n",
        "shooting3 = [\"goals\",\"pens_made\",\"pens_att\",\"shots_total\",\"shots_on_target\",\"shots_free_kicks\",\"shots_on_target_pct\",\"shots_total_per90\",\"shots_on_target_per90\",\"goals_per_shot\",\"goals_per_shot_on_target\",\"xg\",\"npxg\",\"npxg_per_shot\",\"xg_net\",\"npxg_net\"]\n",
        "#passing(passing)\n",
        "passing = [\"player\",\"nationality\",\"position\",\"squad\",\"age\",\"birth_year\",\"minutes_90s\",\"passes_completed\",\"passes\",\"passes_pct\",\"passes_total_distance\",\"passes_progressive_distance\",\"passes_completed_short\",\"passes_short\",\"passes_pct_short\",\"passes_completed_medium\",\"passes_medium\",\"passes_pct_medium\",\"passes_completed_long\",\"passes_long\",\"passes_pct_long\",\"assists\",\"xa\",\"xa_net\",\"assisted_shots\",\"passes_into_final_third\",\"passes_into_penalty_area\",\"crosses_into_penalty_area\",\"progressive_passes\"]\n",
        "passing2 = [\"passes_completed\",\"passes\",\"passes_pct\",\"passes_total_distance\",\"passes_progressive_distance\",\"passes_completed_short\",\"passes_short\",\"passes_pct_short\",\"passes_completed_medium\",\"passes_medium\",\"passes_pct_medium\",\"passes_completed_long\",\"passes_long\",\"passes_pct_long\",\"assists\",\"xa\",\"xa_net\",\"assisted_shots\",\"passes_into_final_third\",\"passes_into_penalty_area\",\"crosses_into_penalty_area\",\"progressive_passes\"]\n",
        "#passtypes(passing_types)\n",
        "passing_types = [\"player\",\"nationality\",\"position\",\"squad\",\"age\",\"birth_year\",\"minutes_90s\",\"passes\",\"passes_live\",\"passes_dead\",\"passes_free_kicks\",\"through_balls\",\"passes_pressure\",\"passes_switches\",\"crosses\",\"corner_kicks\",\"corner_kicks_in\",\"corner_kicks_out\",\"corner_kicks_straight\",\"passes_ground\",\"passes_low\",\"passes_high\",\"passes_left_foot\",\"passes_right_foot\",\"passes_head\",\"throw_ins\",\"passes_other_body\",\"passes_completed\",\"passes_offsides\",\"passes_oob\",\"passes_intercepted\",\"passes_blocked\"]\n",
        "passing_types2 = [\"passes\",\"passes_live\",\"passes_dead\",\"passes_free_kicks\",\"through_balls\",\"passes_pressure\",\"passes_switches\",\"crosses\",\"corner_kicks\",\"corner_kicks_in\",\"corner_kicks_out\",\"corner_kicks_straight\",\"passes_ground\",\"passes_low\",\"passes_high\",\"passes_left_foot\",\"passes_right_foot\",\"passes_head\",\"throw_ins\",\"passes_other_body\",\"passes_completed\",\"passes_offsides\",\"passes_oob\",\"passes_intercepted\",\"passes_blocked\"]\n",
        "#goal and shot creation(gca)\n",
        "gca = [\"player\",\"nationality\",\"position\",\"squad\",\"age\",\"birth_year\",\"minutes_90s\",\"sca\",\"sca_per90\",\"sca_passes_live\",\"sca_passes_dead\",\"sca_dribbles\",\"sca_shots\",\"sca_fouled\",\"gca\",\"gca_per90\",\"gca_passes_live\",\"gca_passes_dead\",\"gca_dribbles\",\"gca_shots\",\"gca_fouled\",\"gca_defense\"]\n",
        "gca2 = [\"sca\",\"sca_per90\",\"sca_passes_live\",\"sca_passes_dead\",\"sca_dribbles\",\"sca_shots\",\"sca_fouled\",\"gca\",\"gca_per90\",\"gca_passes_live\",\"gca_passes_dead\",\"gca_dribbles\",\"gca_shots\",\"gca_fouled\",\"gca_defense\"]\n",
        "#defensive actions(defense)\n",
        "defense = [\"player\",\"nationality\",\"position\",\"squad\",\"age\",\"birth_year\",\"minutes_90s\",\"tackles\",\"tackles_won\",\"tackles_def_3rd\",\"tackles_mid_3rd\",\"tackles_att_3rd\",\"dribble_tackles\",\"dribbles_vs\",\"dribble_tackles_pct\",\"dribbled_past\",\"pressures\",\"pressure_regains\",\"pressure_regain_pct\",\"pressures_def_3rd\",\"pressures_mid_3rd\",\"pressures_att_3rd\",\"blocks\",\"blocked_shots\",\"blocked_shots_saves\",\"blocked_passes\",\"interceptions\",\"clearances\",\"errors\"]\n",
        "defense2 = [\"tackles\",\"tackles_won\",\"tackles_def_3rd\",\"tackles_mid_3rd\",\"tackles_att_3rd\",\"dribble_tackles\",\"dribbles_vs\",\"dribble_tackles_pct\",\"dribbled_past\",\"pressures\",\"pressure_regains\",\"pressure_regain_pct\",\"pressures_def_3rd\",\"pressures_mid_3rd\",\"pressures_att_3rd\",\"blocks\",\"blocked_shots\",\"blocked_shots_saves\",\"blocked_passes\",\"interceptions\",\"clearances\",\"errors\"]\n",
        "#possession(possession)\n",
        "possession = [\"player\",\"nationality\",\"position\",\"squad\",\"age\",\"birth_year\",\"minutes_90s\",\"touches\",\"touches_def_pen_area\",\"touches_def_3rd\",\"touches_mid_3rd\",\"touches_att_3rd\",\"touches_att_pen_area\",\"touches_live_ball\",\"dribbles_completed\",\"dribbles\",\"dribbles_completed_pct\",\"players_dribbled_past\",\"nutmegs\",\"carries\",\"carry_distance\",\"carry_progressive_distance\",\"progressive_carries\",\"carries_into_final_third\",\"carries_into_penalty_area\",\"pass_targets\",\"passes_received\",\"passes_received_pct\",\"miscontrols\",\"dispossessed\"]\n",
        "possession2 = [\"touches\",\"touches_def_pen_area\",\"touches_def_3rd\",\"touches_mid_3rd\",\"touches_att_3rd\",\"touches_att_pen_area\",\"touches_live_ball\",\"dribbles_completed\",\"dribbles\",\"dribbles_completed_pct\",\"players_dribbled_past\",\"nutmegs\",\"carries\",\"carry_distance\",\"carry_progressive_distance\",\"progressive_carries\",\"carries_into_final_third\",\"carries_into_penalty_area\",\"pass_targets\",\"passes_received\",\"passes_received_pct\",\"miscontrols\",\"dispossessed\"]\n",
        "#playingtime(playingtime)\n",
        "playingtime = [\"player\",\"nationality\",\"position\",\"squad\",\"age\",\"birth_year\",\"minutes_90s\",\"games\",\"minutes\",\"minutes_per_game\",\"minutes_pct\",\"games_starts\",\"minutes_per_start\",\"games_subs\",\"minutes_per_sub\",\"unused_subs\",\"points_per_match\",\"on_goals_for\",\"on_goals_against\",\"plus_minus\",\"plus_minus_per90\",\"plus_minus_wowy\",\"on_xg_for\",\"on_xg_against\",\"xg_plus_minus\",\"xg_plus_minus_per90\",\"xg_plus_minus_wowy\"]\n",
        "playingtime2 = [\"games\",\"minutes\",\"minutes_per_game\",\"minutes_pct\",\"games_starts\",\"minutes_per_start\",\"games_subs\",\"minutes_per_sub\",\"unused_subs\",\"points_per_match\",\"on_goals_for\",\"on_goals_against\",\"plus_minus\",\"plus_minus_per90\",\"plus_minus_wowy\",\"on_xg_for\",\"on_xg_against\",\"xg_plus_minus\",\"xg_plus_minus_per90\",\"xg_plus_minus_wowy\"]\n",
        "#miscallaneous(misc)\n",
        "misc = [\"player\",\"nationality\",\"position\",\"squad\",\"age\",\"birth_year\",\"minutes_90s\",\"cards_yellow\",\"cards_red\",\"cards_yellow_red\",\"fouls\",\"fouled\",\"offsides\",\"crosses\",\"interceptions\",\"tackles_won\",\"pens_won\",\"pens_conceded\",\"own_goals\",\"ball_recoveries\",\"aerials_won\",\"aerials_lost\",\"aerials_won_pct\"]\n",
        "misc2 = [\"cards_yellow\",\"cards_red\",\"cards_yellow_red\",\"fouls\",\"fouled\",\"offsides\",\"crosses\",\"interceptions\",\"tackles_won\",\"pens_won\",\"pens_conceded\",\"own_goals\",\"ball_recoveries\",\"aerials_won\",\"aerials_lost\",\"aerials_won_pct\"]\n",
        "\n",
        "\n",
        "\n",
        "import requests\n",
        "from bs4 import BeautifulSoup\n",
        "import pandas as pd\n",
        "import numpy as np\n",
        "import re\n",
        "import sys, getopt\n",
        "import csv\n",
        "\n",
        "\n",
        "\n",
        "#Functions to get the data in a dataframe using BeautifulSoup\n",
        "\n",
        "def get_tables(url,text):\n",
        "    res = requests.get(url)\n",
        "    ## The next two lines get around the issue with comments breaking the parsing.\n",
        "    comm = re.compile(\"<!--|-->\")\n",
        "    soup = BeautifulSoup(comm.sub(\"\",res.text),'lxml')\n",
        "    all_tables = soup.findAll(\"tbody\")\n",
        "    \n",
        "    team_table = all_tables[0]\n",
        "    team_vs_table = all_tables[1]\n",
        "    player_table = all_tables[2]\n",
        "    if text == 'for':\n",
        "      return player_table, team_table\n",
        "    if text == 'vs':\n",
        "      return player_table, team_vs_table\n",
        "\n",
        "def get_frame(features, player_table):\n",
        "    pre_df_player = dict()\n",
        "    features_wanted_player = features\n",
        "    rows_player = player_table.find_all('tr')\n",
        "    for row in rows_player:\n",
        "        if(row.find('th',{\"scope\":\"row\"}) != None):\n",
        "    \n",
        "            for f in features_wanted_player:\n",
        "                cell = row.find(\"td\",{\"data-stat\": f})\n",
        "                a = cell.text.strip().encode()\n",
        "                text=a.decode(\"utf-8\")\n",
        "                if(text == ''):\n",
        "                    text = '0'\n",
        "                if((f!='player')&(f!='nationality')&(f!='position')&(f!='squad')&(f!='age')&(f!='birth_year')):\n",
        "                    text = float(text.replace(',',''))\n",
        "                if f in pre_df_player:\n",
        "                    pre_df_player[f].append(text)\n",
        "                else:\n",
        "                    pre_df_player[f] = [text]\n",
        "    df_player = pd.DataFrame.from_dict(pre_df_player)\n",
        "    return df_player\n",
        "\n",
        "def get_frame_team(features, team_table):\n",
        "    pre_df_squad = dict()\n",
        "    #Note: features does not contain squad name, it requires special treatment\n",
        "    features_wanted_squad = features\n",
        "    rows_squad = team_table.find_all('tr')\n",
        "    for row in rows_squad:\n",
        "        if(row.find('th',{\"scope\":\"row\"}) != None):\n",
        "            name = row.find('th',{\"data-stat\":\"squad\"}).text.strip().encode().decode(\"utf-8\")\n",
        "            if 'squad' in pre_df_squad:\n",
        "                pre_df_squad['squad'].append(name)\n",
        "            else:\n",
        "                pre_df_squad['squad'] = [name]\n",
        "            for f in features_wanted_squad:\n",
        "                cell = row.find(\"td\",{\"data-stat\": f})\n",
        "                a = cell.text.strip().encode()\n",
        "                text=a.decode(\"utf-8\")\n",
        "                if(text == ''):\n",
        "                    text = '0'\n",
        "                if((f!='player')&(f!='nationality')&(f!='position')&(f!='squad')&(f!='age')&(f!='birth_year')):\n",
        "                    text = float(text.replace(',',''))\n",
        "                if f in pre_df_squad:\n",
        "                    pre_df_squad[f].append(text)\n",
        "                else:\n",
        "                    pre_df_squad[f] = [text]\n",
        "    df_squad = pd.DataFrame.from_dict(pre_df_squad)\n",
        "    return df_squad\n",
        "\n",
        "def frame_for_category(category,top,end,features):\n",
        "    url = (top + category + end)\n",
        "    player_table, team_table = get_tables(url,'for')\n",
        "    df_player = get_frame(features, player_table)\n",
        "    return df_player\n",
        "\n",
        "def frame_for_category_team(category,top,end,features,text):\n",
        "    url = (top + category + end)\n",
        "    player_table, team_table = get_tables(url,text)\n",
        "    df_team = get_frame_team(features, team_table)\n",
        "    return df_team\n",
        "\n",
        "\n",
        "\n",
        "\n",
        "#Function to get the player data for outfield player, includes all categories - standard stats, shooting\n",
        "#passing, passing types, goal and shot creation, defensive actions, possession, and miscallaneous\n",
        "def get_outfield_data(top, end):\n",
        "    df1 = frame_for_category('stats',top,end,stats)\n",
        "    df2 = frame_for_category('shooting',top,end,shooting2)\n",
        "    df3 = frame_for_category('passing',top,end,passing2)\n",
        "    df4 = frame_for_category('passing_types',top,end,passing_types2)\n",
        "    df5 = frame_for_category('gca',top,end,gca2)\n",
        "    df6 = frame_for_category('defense',top,end,defense2)\n",
        "    df7 = frame_for_category('possession',top,end,possession2)\n",
        "    df8 = frame_for_category('misc',top,end,misc2)\n",
        "    df = pd.concat([df1, df2, df3, df4, df5, df6, df7, df8], axis=1)\n",
        "    df = df.loc[:,~df.columns.duplicated()]\n",
        "    return df\n",
        "\n",
        "\n",
        "#Function to get keeping and advance goalkeeping data\n",
        "def get_keeper_data(top,end):\n",
        "    df1 = frame_for_category('keepers',top,end,keepers)\n",
        "    df2 = frame_for_category('keepersadv',top,end,keepersadv2)\n",
        "    df = pd.concat([df1, df2], axis=1)\n",
        "    df = df.loc[:,~df.columns.duplicated()]\n",
        "    return df\n",
        "\n",
        "\n",
        "\n",
        "#Function to get team-wise data accross all categories as mentioned above\n",
        "def get_team_data(top,end,text):\n",
        "    df1 = frame_for_category_team('stats',top,end,stats3,text)\n",
        "    df2 = frame_for_category_team('keepers',top,end,keepers3,text)\n",
        "    df3 = frame_for_category_team('keepersadv',top,end,keepersadv2,text)\n",
        "    df4 = frame_for_category_team('shooting',top,end,shooting3,text)\n",
        "    df5 = frame_for_category_team('passing',top,end,passing2,text)\n",
        "    df6 = frame_for_category_team('passing_types',top,end,passing_types2,text)\n",
        "    df7 = frame_for_category_team('gca',top,end,gca2,text)\n",
        "    df8 = frame_for_category_team('defense',top,end,defense2,text)\n",
        "    df9 = frame_for_category_team('possession',top,end,possession2,text)\n",
        "    df10 = frame_for_category_team('misc',top,end,misc2,text)\n",
        "    df = pd.concat([df1, df2, df3, df4, df5, df6, df7, df8, df9, df10], axis=1)\n",
        "    df = df.loc[:,~df.columns.duplicated()]\n",
        "    return df\n"
      ],
      "execution_count": 2,
      "outputs": []
    },
    {
      "cell_type": "markdown",
      "source": [
        "## Premier League: These two cells below create the dataframes for outfield players and goalkeepers\n"
      ],
      "metadata": {
        "id": "pkL53GA3Cup9"
      }
    },
    {
      "cell_type": "code",
      "metadata": {
        "id": "gPK7Y54NmUVA"
      },
      "source": [
        "#This cell is to get the outfield player data for any competition\n",
        "\n",
        "#Go to the 'Standard stats' page of the league\n",
        "#For Premier League 2020/21, the link is this: https://fbref.com/en/comps/9/stats/Premier-League-Stats\n",
        "#Remove the 'stats', and pass the first and third part of the link as parameters like below\n",
        "df_outfield_prem = get_outfield_data('https://fbref.com/en/comps/9/','/Premier-League-Stats')\n",
        "\n",
        "#Save csv file to Desktop\n",
        "# df_outfield.to_csv('PL2021_Outfield.csv',index=False)\n",
        "\n",
        "df_outfield_prem"
      ],
      "execution_count": null,
      "outputs": []
    },
    {
      "cell_type": "code",
      "metadata": {
        "id": "bvMefm5dmcWs"
      },
      "source": [
        "#This cell is to get the goalkeeper data for any competition\n",
        "\n",
        "#Go to the 'Standard stats' page of the league\n",
        "#For Premier League 2020/21, the link is this: https://fbref.com/en/comps/9/stats/Premier-League-Stats\n",
        "#Remove the 'stats', and pass the first and third part of the link as parameters like below\n",
        "df_keeper_prem = get_keeper_data('https://fbref.com/en/comps/9/','/Premier-League-Stats')\n",
        "\n",
        "#Save csv file to Desktop\n",
        "# df_keeper.to_csv('PL2021_keepers.csv',index=False)\n",
        "\n",
        "df_keeper_prem"
      ],
      "execution_count": null,
      "outputs": []
    },
    {
      "cell_type": "markdown",
      "source": [
        "## LaLiga: Creating the Dataframe for outfield players and goalkeepers"
      ],
      "metadata": {
        "id": "lAy8v5eJEG8p"
      }
    },
    {
      "cell_type": "code",
      "metadata": {
        "id": "loF_QC6XERI9"
      },
      "source": [
        "#This cell is to get the outfield player data for any competition\n",
        "\n",
        "#Go to the 'Standard stats' page of the league\n",
        "#For La Liga 2020/21, the link is this: https://fbref.com/en/comps/12/La-Liga-Stats\n",
        "#Remove the 'stats', and pass the first and third part of the link as parameters like below\n",
        "df_outfield_liga = get_outfield_data('https://fbref.com/en/comps/12/','/La-Liga-Stats')\n",
        "\n",
        "#Save csv file to Desktop\n",
        "# df_outfield.to_csv('LaLiga2021_Outfield.csv',index=False)\n",
        "\n",
        "df_outfield_liga"
      ],
      "execution_count": null,
      "outputs": []
    },
    {
      "cell_type": "code",
      "metadata": {
        "id": "oqNWvbPnERI-"
      },
      "source": [
        "#This cell is to get the goalkeeper data for any competition\n",
        "\n",
        "#Go to the 'Standard stats' page of the league\n",
        "#For La Liga 2020/21, the link is this: https://fbref.com/en/comps/12/La-Liga-Stats\n",
        "#Remove the 'stats', and pass the first and third part of the link as parameters like below\n",
        "df_keeper_liga = get_keeper_data('https://fbref.com/en/comps/12/','/La-Liga-Stats')\n",
        "\n",
        "#Save csv file to Desktop\n",
        "# df_keeper.to_csv('LaLiga2021_keepers.csv',index=False)\n",
        "\n",
        "df_keeper_liga"
      ],
      "execution_count": null,
      "outputs": []
    },
    {
      "cell_type": "markdown",
      "source": [
        "## Bundesliga: Creating the Dataframe for outfield players and goalkeepers"
      ],
      "metadata": {
        "id": "p_atmW4o4sUg"
      }
    },
    {
      "cell_type": "code",
      "metadata": {
        "id": "ePRDtprV4sUh"
      },
      "source": [
        "#This cell is to get the outfield player data for any competition\n",
        "\n",
        "#Go to the 'Standard stats' page of the league\n",
        "#For Bundesliga 2020/21, the link is this: https://fbref.com/en/comps/20/Bundesliga-Stats\n",
        "#Remove the 'stats', and pass the first and third part of the link as parameters like below\n",
        "df_outfield_bund = get_outfield_data('https://fbref.com/en/comps/20/','/Bundesliga-Stats')\n",
        "\n",
        "#Save csv file to Desktop\n",
        "# df_outfield.to_csv('Bundesliga2021_Outfield.csv',index=False)\n",
        "\n",
        "df_outfield_bund"
      ],
      "execution_count": null,
      "outputs": []
    },
    {
      "cell_type": "code",
      "metadata": {
        "id": "mwozeFEz4sUi"
      },
      "source": [
        "#This cell is to get the goalkeeper data for any competition\n",
        "\n",
        "#Go to the 'Standard stats' page of the league\n",
        "#For Bundesliga 2020/21, the link is this: https://fbref.com/en/comps/20/Bundesliga-Stats\n",
        "#Remove the 'stats', and pass the first and third part of the link as parameters like below\n",
        "df_keeper_bund = get_keeper_data('https://fbref.com/en/comps/20/','/Bundesliga-Stats')\n",
        "\n",
        "#Save csv file to Desktop\n",
        "# df_keeper.to_csv('Bundesliga2021_keepers.csv',index=False)\n",
        "\n",
        "df_keeper_bund"
      ],
      "execution_count": null,
      "outputs": []
    },
    {
      "cell_type": "markdown",
      "source": [
        "## Ligue 1: Creating the Dataframe for outfield players and goalkeepers"
      ],
      "metadata": {
        "id": "NbADCycv4uGR"
      }
    },
    {
      "cell_type": "code",
      "metadata": {
        "id": "zGRWKMm74uGS"
      },
      "source": [
        "#This cell is to get the outfield player data for any competition\n",
        "\n",
        "#Go to the 'Standard stats' page of the league\n",
        "#For Ligue 1 2020/21, the link is this: https://fbref.com/en/comps/13/Ligue-1-Stats\n",
        "#Remove the 'stats', and pass the first and third part of the link as parameters like below\n",
        "df_outfield_ligue = get_outfield_data('https://fbref.com/en/comps/13/','/Ligue-1-Stats')\n",
        "\n",
        "#Save csv file to Desktop\n",
        "# df_outfield.to_csv('Ligue12021_Outfield.csv',index=False)\n",
        "\n",
        "df_outfield_ligue"
      ],
      "execution_count": null,
      "outputs": []
    },
    {
      "cell_type": "code",
      "metadata": {
        "id": "G-OHyLCU4uGT"
      },
      "source": [
        "#This cell is to get the goalkeeper data for any competition\n",
        "\n",
        "#Go to the 'Standard stats' page of the league\n",
        "#For Ligue 1 2020/21, the link is this: https://fbref.com/en/comps/13/Ligue-1-Stats\n",
        "#Remove the 'stats', and pass the first and third part of the link as parameters like below\n",
        "df_keeper_ligue = get_keeper_data('https://fbref.com/en/comps/13/','/Ligue-1-Stats')\n",
        "\n",
        "#Save csv file to Desktop\n",
        "# df_keeper.to_csv('Ligue12021_keepers.csv',index=False)\n",
        "\n",
        "df_keeper_ligue"
      ],
      "execution_count": null,
      "outputs": []
    },
    {
      "cell_type": "markdown",
      "source": [
        "## Serie A: Creating the Dataframe for outfield players and goalkeepers"
      ],
      "metadata": {
        "id": "cKss68NL4u8s"
      }
    },
    {
      "cell_type": "code",
      "metadata": {
        "id": "gSDfX-BU4u8t"
      },
      "source": [
        "#This cell is to get the outfield player data for any competition\n",
        "\n",
        "#Go to the 'Standard stats' page of the league\n",
        "#For Serie A 2020/21, the link is this: https://fbref.com/en/comps/11/Serie-A-Stats\n",
        "#Remove the 'stats', and pass the first and third part of the link as parameters like below\n",
        "df_outfield_seriea = get_outfield_data('https://fbref.com/en/comps/11/','/Serie-A-Stats')\n",
        "\n",
        "#Save csv file to Desktop\n",
        "# df_outfield.to_csv('SerieA2021_Outfield.csv',index=False)\n",
        "\n",
        "df_outfield_seriea"
      ],
      "execution_count": null,
      "outputs": []
    },
    {
      "cell_type": "code",
      "metadata": {
        "id": "OvR86qd_4u8t"
      },
      "source": [
        "#This cell is to get the goalkeeper data for any competition\n",
        "\n",
        "#Go to the 'Standard stats' page of the league\n",
        "#For Serie A 2020/21, the link is this: https://fbref.com/en/comps/11/Serie-A-Stats\n",
        "#Remove the 'stats', and pass the first and third part of the link as parameters like below\n",
        "df_keeper_seriea = get_keeper_data('https://fbref.com/en/comps/11/','/Serie-A-Stats')\n",
        "\n",
        "#Save csv file to Desktop\n",
        "# df_keeper.to_csv('SerieA2021_keepers.csv',index=False)\n",
        "\n",
        "df_keeper_seriea"
      ],
      "execution_count": null,
      "outputs": []
    },
    {
      "cell_type": "markdown",
      "source": [
        "I need to add a column to each dataframe that specifies the leauge\n",
        "\n",
        "\n",
        "\n"
      ],
      "metadata": {
        "id": "HJnJjnGi_rxP"
      }
    },
    {
      "cell_type": "code",
      "source": [
        "df_outfield_prem['League']='Premier League'\n",
        "df_outfield_liga['League']='La Liga'\n",
        "df_outfield_bund['League']='Bundelsiga'\n",
        "df_outfield_seriea['League']='Serie A'\n",
        "df_outfield_ligue['League']='Ligue 1'"
      ],
      "metadata": {
        "id": "dfk2Fe0OEwQ0"
      },
      "execution_count": 30,
      "outputs": []
    },
    {
      "cell_type": "markdown",
      "source": [
        "##Lets combine all the dataframes into one huge dataframe"
      ],
      "metadata": {
        "id": "8YmFzQgB-5hu"
      }
    },
    {
      "cell_type": "code",
      "source": [
        "#First the outfield players\n",
        "df_all_outfield = pd.concat([df_outfield_prem, df_outfield_liga, df_outfield_bund, df_outfield_ligue, df_outfield_seriea], axis=0, ignore_index=True)\n",
        "\n",
        "df_all_outfield"
      ],
      "metadata": {
        "id": "sSWZazZd--VB"
      },
      "execution_count": null,
      "outputs": []
    },
    {
      "cell_type": "code",
      "source": [
        "#Then the goalkeepers\n",
        "\n",
        "df_all_goalkeepers = pd.concat([df_keeper_prem, df_keeper_liga, df_keeper_bund, df_keeper_ligue, df_keeper_seriea], axis=0, ignore_index=True)\n",
        "\n",
        "df_all_goalkeepers"
      ],
      "metadata": {
        "id": "xPqod6s6AcVs"
      },
      "execution_count": null,
      "outputs": []
    },
    {
      "cell_type": "code",
      "source": [
        "#Maybe we combine them?\n",
        "\n",
        "# df_all_players = pd.concat([df_all_outfield,df_all_goalkeepers], axis=0, ignore_index= True)\n",
        "# df_all_players"
      ],
      "metadata": {
        "id": "1DnNBnZhA7yI"
      },
      "execution_count": null,
      "outputs": []
    },
    {
      "cell_type": "markdown",
      "source": [
        "### APPENDIX"
      ],
      "metadata": {
        "id": "pQFXztIOEdt9"
      }
    },
    {
      "cell_type": "markdown",
      "source": [
        "My thoughts are that the game would run a little something like this:\n",
        "\n",
        "Run the top cell to see a players information minus their name. To give up or check your guess, run the bottom cell to see their name."
      ],
      "metadata": {
        "id": "0jixCkbuBXdw"
      }
    },
    {
      "cell_type": "code",
      "source": [
        "player = df_all_outfield.sample()\n",
        "player_name = player['player'].values[0]\n",
        "player_minus_name = player.drop(columns='player')\n",
        "player_minus_name\n"
      ],
      "metadata": {
        "colab": {
          "base_uri": "https://localhost:8080/",
          "height": 110
        },
        "id": "KSomLjOABWYe",
        "outputId": "4d52164e-c5a4-453f-f3e3-63952b9b4cd9"
      },
      "execution_count": 58,
      "outputs": [
        {
          "output_type": "execute_result",
          "data": {
            "text/plain": [
              "     nationality position  squad age birth_year  games  games_starts  minutes  \\\n",
              "2540      se SWE       FW  Milan  39       1981   23.0          11.0   1016.0   \n",
              "\n",
              "      goals  assists  ...  fouled  offsides  pens_won  pens_conceded  \\\n",
              "2540    8.0      2.0  ...    11.0      19.0       1.0            0.0   \n",
              "\n",
              "      own_goals  ball_recoveries  aerials_won  aerials_lost  aerials_won_pct  \\\n",
              "2540        1.0             52.0         58.0          29.0             66.7   \n",
              "\n",
              "       League  \n",
              "2540  Serie A  \n",
              "\n",
              "[1 rows x 154 columns]"
            ],
            "text/html": [
              "\n",
              "  <div id=\"df-7c6d41ce-0bde-4940-af57-0808a0e1745c\">\n",
              "    <div class=\"colab-df-container\">\n",
              "      <div>\n",
              "<style scoped>\n",
              "    .dataframe tbody tr th:only-of-type {\n",
              "        vertical-align: middle;\n",
              "    }\n",
              "\n",
              "    .dataframe tbody tr th {\n",
              "        vertical-align: top;\n",
              "    }\n",
              "\n",
              "    .dataframe thead th {\n",
              "        text-align: right;\n",
              "    }\n",
              "</style>\n",
              "<table border=\"1\" class=\"dataframe\">\n",
              "  <thead>\n",
              "    <tr style=\"text-align: right;\">\n",
              "      <th></th>\n",
              "      <th>nationality</th>\n",
              "      <th>position</th>\n",
              "      <th>squad</th>\n",
              "      <th>age</th>\n",
              "      <th>birth_year</th>\n",
              "      <th>games</th>\n",
              "      <th>games_starts</th>\n",
              "      <th>minutes</th>\n",
              "      <th>goals</th>\n",
              "      <th>assists</th>\n",
              "      <th>...</th>\n",
              "      <th>fouled</th>\n",
              "      <th>offsides</th>\n",
              "      <th>pens_won</th>\n",
              "      <th>pens_conceded</th>\n",
              "      <th>own_goals</th>\n",
              "      <th>ball_recoveries</th>\n",
              "      <th>aerials_won</th>\n",
              "      <th>aerials_lost</th>\n",
              "      <th>aerials_won_pct</th>\n",
              "      <th>League</th>\n",
              "    </tr>\n",
              "  </thead>\n",
              "  <tbody>\n",
              "    <tr>\n",
              "      <th>2540</th>\n",
              "      <td>se SWE</td>\n",
              "      <td>FW</td>\n",
              "      <td>Milan</td>\n",
              "      <td>39</td>\n",
              "      <td>1981</td>\n",
              "      <td>23.0</td>\n",
              "      <td>11.0</td>\n",
              "      <td>1016.0</td>\n",
              "      <td>8.0</td>\n",
              "      <td>2.0</td>\n",
              "      <td>...</td>\n",
              "      <td>11.0</td>\n",
              "      <td>19.0</td>\n",
              "      <td>1.0</td>\n",
              "      <td>0.0</td>\n",
              "      <td>1.0</td>\n",
              "      <td>52.0</td>\n",
              "      <td>58.0</td>\n",
              "      <td>29.0</td>\n",
              "      <td>66.7</td>\n",
              "      <td>Serie A</td>\n",
              "    </tr>\n",
              "  </tbody>\n",
              "</table>\n",
              "<p>1 rows × 154 columns</p>\n",
              "</div>\n",
              "      <button class=\"colab-df-convert\" onclick=\"convertToInteractive('df-7c6d41ce-0bde-4940-af57-0808a0e1745c')\"\n",
              "              title=\"Convert this dataframe to an interactive table.\"\n",
              "              style=\"display:none;\">\n",
              "        \n",
              "  <svg xmlns=\"http://www.w3.org/2000/svg\" height=\"24px\"viewBox=\"0 0 24 24\"\n",
              "       width=\"24px\">\n",
              "    <path d=\"M0 0h24v24H0V0z\" fill=\"none\"/>\n",
              "    <path d=\"M18.56 5.44l.94 2.06.94-2.06 2.06-.94-2.06-.94-.94-2.06-.94 2.06-2.06.94zm-11 1L8.5 8.5l.94-2.06 2.06-.94-2.06-.94L8.5 2.5l-.94 2.06-2.06.94zm10 10l.94 2.06.94-2.06 2.06-.94-2.06-.94-.94-2.06-.94 2.06-2.06.94z\"/><path d=\"M17.41 7.96l-1.37-1.37c-.4-.4-.92-.59-1.43-.59-.52 0-1.04.2-1.43.59L10.3 9.45l-7.72 7.72c-.78.78-.78 2.05 0 2.83L4 21.41c.39.39.9.59 1.41.59.51 0 1.02-.2 1.41-.59l7.78-7.78 2.81-2.81c.8-.78.8-2.07 0-2.86zM5.41 20L4 18.59l7.72-7.72 1.47 1.35L5.41 20z\"/>\n",
              "  </svg>\n",
              "      </button>\n",
              "      \n",
              "  <style>\n",
              "    .colab-df-container {\n",
              "      display:flex;\n",
              "      flex-wrap:wrap;\n",
              "      gap: 12px;\n",
              "    }\n",
              "\n",
              "    .colab-df-convert {\n",
              "      background-color: #E8F0FE;\n",
              "      border: none;\n",
              "      border-radius: 50%;\n",
              "      cursor: pointer;\n",
              "      display: none;\n",
              "      fill: #1967D2;\n",
              "      height: 32px;\n",
              "      padding: 0 0 0 0;\n",
              "      width: 32px;\n",
              "    }\n",
              "\n",
              "    .colab-df-convert:hover {\n",
              "      background-color: #E2EBFA;\n",
              "      box-shadow: 0px 1px 2px rgba(60, 64, 67, 0.3), 0px 1px 3px 1px rgba(60, 64, 67, 0.15);\n",
              "      fill: #174EA6;\n",
              "    }\n",
              "\n",
              "    [theme=dark] .colab-df-convert {\n",
              "      background-color: #3B4455;\n",
              "      fill: #D2E3FC;\n",
              "    }\n",
              "\n",
              "    [theme=dark] .colab-df-convert:hover {\n",
              "      background-color: #434B5C;\n",
              "      box-shadow: 0px 1px 3px 1px rgba(0, 0, 0, 0.15);\n",
              "      filter: drop-shadow(0px 1px 2px rgba(0, 0, 0, 0.3));\n",
              "      fill: #FFFFFF;\n",
              "    }\n",
              "  </style>\n",
              "\n",
              "      <script>\n",
              "        const buttonEl =\n",
              "          document.querySelector('#df-7c6d41ce-0bde-4940-af57-0808a0e1745c button.colab-df-convert');\n",
              "        buttonEl.style.display =\n",
              "          google.colab.kernel.accessAllowed ? 'block' : 'none';\n",
              "\n",
              "        async function convertToInteractive(key) {\n",
              "          const element = document.querySelector('#df-7c6d41ce-0bde-4940-af57-0808a0e1745c');\n",
              "          const dataTable =\n",
              "            await google.colab.kernel.invokeFunction('convertToInteractive',\n",
              "                                                     [key], {});\n",
              "          if (!dataTable) return;\n",
              "\n",
              "          const docLinkHtml = 'Like what you see? Visit the ' +\n",
              "            '<a target=\"_blank\" href=https://colab.research.google.com/notebooks/data_table.ipynb>data table notebook</a>'\n",
              "            + ' to learn more about interactive tables.';\n",
              "          element.innerHTML = '';\n",
              "          dataTable['output_type'] = 'display_data';\n",
              "          await google.colab.output.renderOutput(dataTable, element);\n",
              "          const docLink = document.createElement('div');\n",
              "          docLink.innerHTML = docLinkHtml;\n",
              "          element.appendChild(docLink);\n",
              "        }\n",
              "      </script>\n",
              "    </div>\n",
              "  </div>\n",
              "  "
            ]
          },
          "metadata": {},
          "execution_count": 58
        }
      ]
    },
    {
      "cell_type": "code",
      "source": [
        "player_name"
      ],
      "metadata": {
        "colab": {
          "base_uri": "https://localhost:8080/",
          "height": 35
        },
        "id": "aXRbIbgrCHRk",
        "outputId": "ccb81935-2272-4e13-dc87-444f9e2f947a"
      },
      "execution_count": 59,
      "outputs": [
        {
          "output_type": "execute_result",
          "data": {
            "text/plain": [
              "'Zlatan Ibrahimović'"
            ],
            "application/vnd.google.colaboratory.intrinsic+json": {
              "type": "string"
            }
          },
          "metadata": {},
          "execution_count": 59
        }
      ]
    },
    {
      "cell_type": "markdown",
      "source": [
        "##The stuff below this does not currently work so we can address it later. It concerns team stats rather than players stats."
      ],
      "metadata": {
        "id": "EW9xRvlPCmeS"
      }
    },
    {
      "cell_type": "code",
      "metadata": {
        "id": "5e_hIIV3mYP-"
      },
      "source": [
        "#This cell is to get the data FOR all teams in any competition\n",
        "\n",
        "#Go to the 'Standard stats' page of the league\n",
        "#For Premier League 2020/21, the link is this: https://fbref.com/en/comps/9/stats/Premier-League-Stats\n",
        "#Remove the 'stats', and pass the first and third part of the link as parameters like below\n",
        "# df_team = get_team_data('https://fbref.com/en/comps/9/','/Premier-League-Stats','for')\n",
        "\n",
        "# #Save csv file to Desktop\n",
        "# # df_team.to_csv('PL2021_teams.csv',index=False)\n",
        "\n",
        "# df_team"
      ],
      "execution_count": null,
      "outputs": []
    },
    {
      "cell_type": "code",
      "metadata": {
        "id": "vuOBpUtwmbmI"
      },
      "source": [
        "# #This cell is to get the data VS all teams in any competition\n",
        "\n",
        "# #Go to the 'Standard stats' page of the league\n",
        "# #For Premier League 2020/21, the link is this: https://fbref.com/en/comps/9/stats/Premier-League-Stats\n",
        "# #Remove the 'stats', and pass the first and third part of the link as parameters like below\n",
        "# df_team = get_team_data('https://fbref.com/en/comps/9/','/Premier-League-Stats','vs')\n",
        "\n",
        "# #Save csv file to Desktop\n",
        "# # df_team.to_csv('PL2021_teams_vs.csv',index=False)\n",
        "\n",
        "# df_team"
      ],
      "execution_count": null,
      "outputs": []
    }
  ]
}