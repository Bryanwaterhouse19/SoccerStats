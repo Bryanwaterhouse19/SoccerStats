{
  "nbformat": 4,
  "nbformat_minor": 0,
  "metadata": {
    "colab": {
      "provenance": [],
      "collapsed_sections": [],
      "authorship_tag": "ABX9TyNqvL1LiVu9d0vdBZpwFq55",
      "include_colab_link": true
    },
    "kernelspec": {
      "name": "python3",
      "display_name": "Python 3"
    },
    "language_info": {
      "name": "python"
    }
  },
  "cells": [
    {
      "cell_type": "markdown",
      "metadata": {
        "id": "view-in-github",
        "colab_type": "text"
      },
      "source": [
        "<a href=\"https://colab.research.google.com/github/Bryanwaterhouse19/SoccerStats/blob/main/Fantasy_Scoring_Test_Pandas.ipynb\" target=\"_parent\"><img src=\"https://colab.research.google.com/assets/colab-badge.svg\" alt=\"Open In Colab\"/></a>"
      ]
    },
    {
      "cell_type": "markdown",
      "source": [
        "## Imports"
      ],
      "metadata": {
        "id": "nK11pXjUK-7x"
      }
    },
    {
      "cell_type": "code",
      "execution_count": 1,
      "metadata": {
        "id": "Nbk2_31PYFJh"
      },
      "outputs": [],
      "source": [
        "import requests\n",
        "from bs4 import BeautifulSoup\n",
        "import pandas as pd\n",
        "import numpy as np\n",
        "import re\n",
        "import sys, getopt\n",
        "import csv\n",
        "import time"
      ]
    },
    {
      "cell_type": "markdown",
      "source": [
        "## Functions"
      ],
      "metadata": {
        "id": "WwM9qDbiK0_0"
      }
    },
    {
      "cell_type": "code",
      "source": [
        "def get_player_name_from_url(url):\n",
        "\n",
        "  name = url[66:len(url)-11]\n",
        "\n",
        "  name = name.replace(\"-\", \" \")\n",
        "\n",
        "  return name"
      ],
      "metadata": {
        "id": "v7yujH0FTzSs"
      },
      "execution_count": 3,
      "outputs": []
    },
    {
      "cell_type": "code",
      "source": [
        "def make_player_name_player_links_dict(url):\n",
        "\n",
        "  player_name_player_links_dict = {}\n",
        "\n",
        "  res = requests.get(url)\n",
        "  ## The next two lines get around the issue with comments breaking the parsing.\n",
        "  comm = re.compile(\"<!--|-->\")\n",
        "  soup = BeautifulSoup(comm.sub(\"\",res.text),'lxml')\n",
        "  all_links = soup.findAll(\"a\")\n",
        "  for link in all_links:\n",
        "    link = str(link)\n",
        "    if \"Match-Logs\" in link:\n",
        "      link = link[9:len(link)-13]\n",
        "      link = \"https://fbref.com\" + link\n",
        "      name = get_player_name_from_url(link)\n",
        "      player_name_player_links_dict[name] = link\n",
        "\n",
        "\n",
        "  return player_name_player_links_dict"
      ],
      "metadata": {
        "id": "LklKGt8zHS6T"
      },
      "execution_count": 13,
      "outputs": []
    },
    {
      "cell_type": "code",
      "source": [
        "def get_url_from_player_name(name):\n",
        "  #I want to figure out how to do this, but the random letters and numbers they put in the player's urls might make this difficult\n",
        "  Big_5_url = \"https://fbref.com/en/comps/Big5/stats/players/Big-5-European-Leagues-Stats\"\n",
        "  Big_5_player_name_dict = make_player_name_player_links_dict(Big_5_url)\n",
        "  return Big_5_player_name_dict[name]"
      ],
      "metadata": {
        "id": "5E8n3msQT3oD"
      },
      "execution_count": 30,
      "outputs": []
    },
    {
      "cell_type": "code",
      "source": [
        "def get_outfield_player_match_logs(url):\n",
        "  list_of_dfs = pd.read_html(url)\n",
        "  df = list_of_dfs[0]\n",
        "  df.columns = (['Date','Day','Competition','Round','Venue','Result','Squad','Opponent','Start','Position','Mins','Goals','Assists','Penalties Made', 'Penalties Taken','Shots','Shots on Target',\n",
        "                 'Yellow Cards','Red Cards','Touches','Presses','Tackles','Interceptions','Blocks','Expected Goals', 'Non Penalty Expected Goals', 'Expected Assists','Shot Creating Actions',\n",
        "                 'Goal Creating Actions','Passes Completed','Passes Attempted','Pass Completion %','Progressive Passes','Carries','Progressive Carries','Dribbles Succeeded', 'Dribbles Attempted','Match Report'])\n",
        "  name = get_player_name_from_url(url)\n",
        "  df['Player Name'] = name\n",
        "  return df"
      ],
      "metadata": {
        "id": "vT-LuxmIYRew"
      },
      "execution_count": 5,
      "outputs": []
    },
    {
      "cell_type": "code",
      "source": [
        "def get_gk_match_logs(url):\n",
        "  list_of_dfs = pd.read_html(url)\n",
        "  df = list_of_dfs[0]\n",
        "  df.columns = (['Date','Day','Competition','Round','Venue','Result','Squad','Opponent','Start','Position','Mins','Shots on Target Against','Goals Allowed','Saves', 'Save Percentage','Clean Sheets',\n",
        "                 'Post Shot Expected Goals','Penalty Kicks Attempted','Penalty Kicks Allowed','Penalty Kicks Saved','Penalty Kicks Missed','Passes over 40 yards Completed','Passes over 40 yards Attempted',\n",
        "                 'Passes over 40 yards completion %','Passes Attempted', 'Throws Attempted', 'Percent of passes over 40 yards','Average Pass Length', 'Goal Kicks Attempted','Goal Kicks over 40 yards',\n",
        "                 'Goal Kick Average Length','Crosses Attempted','Crosses Stopped','Cross Stop %','Defensive Actions outside Penalty Area','Average Distance of Defensive Actions outside Penalty Area','Match Report'])\n",
        "  name = get_player_name_from_url(url)\n",
        "  df['Player Name'] = name\n",
        "  return df"
      ],
      "metadata": {
        "id": "F3j73ZZWV5ns"
      },
      "execution_count": 6,
      "outputs": []
    },
    {
      "cell_type": "code",
      "source": [
        "def calculate_game_week_points(df):\n",
        "  #establish all the weights for different stats\n",
        "\n",
        "  #Outfield Multipliers\n",
        "  mins_multiplier = 0.025\n",
        "  goals_multiplier = 5\n",
        "  assists_multiplier = 2.5\n",
        "  penalty_miss_multiplier = -2\n",
        "  shots_on_target_multiplier = 0.25\n",
        "  yellow_card_multiplier = -1\n",
        "  red_card_multiplier = -3\n",
        "  press_multiplier = 0.25\n",
        "  tackle_multiplier = 0.25\n",
        "  interception_multiplier = 0.25\n",
        "  block_multiplier = 0.25\n",
        "  no_penalty_xG_multiplier = 0.5\n",
        "  expected_assist_multiplier = 0.25\n",
        "  shot_creating_actions_multiplier = 0.25\n",
        "  passes_completed_multiplier = 0.1 #will multiply by pass completion percentage as well\n",
        "  successful_dribble_multiplier = 0.25\n",
        "\n",
        "  #Goalkeeper/def multipliers\n",
        "  clean_sheet_def_gk_multiplier = 4\n",
        "  gk_df_goal_conceded_multiplier = -1\n",
        "\n",
        "  #Just gk multipliers\n",
        "  penalty_save_multiplier = 4\n",
        "  gk_save_multiplier = 2\n",
        "  gk_penalty_allowed_multiplier = -1\n",
        "  gk_pass_longer_than_40_yds_multiplier = 0.5\n",
        "  gk_cross_stopped_multiplier = 1\n",
        "  gk_defensive_action_outside_box_multiplier = 1\n",
        "\n",
        "  ######calculate game week points##########\n",
        "\n",
        "  Position = df.iloc[0]['Position']\n",
        "  #sometimes FBref lists positions like \"RW,WB\", or \"CM,DM\", I don't want to deal with that so I'm just going to take the first position\n",
        "  Position = Position[:2]\n",
        "  Name = df.iloc[0]['Player Name']\n",
        "  gameweek = df.iloc[0]['Round']\n",
        "\n",
        "  clean_sheet = False\n",
        "  result = df.iloc[0]['Result']\n",
        "  goals_conceded = int(result[-1])\n",
        "  if goals_conceded == 0:\n",
        "    clean_sheet = True\n",
        "\n",
        "  \n",
        "  #attackers and midfielders get scored the same\n",
        "  if Position in ['FW','RW','LW','CM','DM','MF','AM','RM','LM']:\n",
        "    Penalties_missed = float(df['Penalties Taken']) - float(df['Penalties Made'])\n",
        "    pass_completion_percentage = float(df['Pass Completion %']) / 100\n",
        "\n",
        "    points = (float(df['Mins'])*mins_multiplier + float(df['Goals'])*goals_multiplier + float(df['Assists'])*assists_multiplier + Penalties_missed * penalty_miss_multiplier \n",
        "              + float(df['Shots on Target'])*shots_on_target_multiplier + float(df['Yellow Cards']) * yellow_card_multiplier + float(df['Red Cards']) * red_card_multiplier\n",
        "              + float(df['Presses']) * press_multiplier + float(df['Tackles']) * tackle_multiplier + float(df['Interceptions']) * interception_multiplier + float(df['Blocks']) * block_multiplier \n",
        "              + float(df['Non Penalty Expected Goals']) * no_penalty_xG_multiplier + float(df['Expected Assists']) * expected_assist_multiplier \n",
        "              + float(df['Passes Completed']) * passes_completed_multiplier * pass_completion_percentage + float(df['Shot Creating Actions']) * shot_creating_actions_multiplier \n",
        "              + float(df['Dribbles Succeeded']) * successful_dribble_multiplier)\n",
        "    \n",
        "  #Defenders get scored a little differently\n",
        "  elif Position in ['CB','LB','RB','WB','DF']:\n",
        "    Penalties_missed = float(df['Penalties Taken']) - float(df['Penalties Made'])\n",
        "    pass_completion_percentage = float(df['Pass Completion %']) / 100\n",
        "    points = (float(df['Mins'])*mins_multiplier + float(df['Goals'])*goals_multiplier + float(df['Assists'])*assists_multiplier + Penalties_missed * penalty_miss_multiplier \n",
        "          + float(df['Shots on Target'])*shots_on_target_multiplier + float(df['Yellow Cards']) * yellow_card_multiplier + float(df['Red Cards']) * red_card_multiplier\n",
        "          + float(df['Presses']) * press_multiplier + float(df['Tackles']) * tackle_multiplier + float(df['Interceptions']) * interception_multiplier + float(df['Blocks']) * block_multiplier \n",
        "          + float(df['Non Penalty Expected Goals']) * no_penalty_xG_multiplier + float(df['Expected Assists']) * expected_assist_multiplier \n",
        "          + float(df['Passes Completed']) * passes_completed_multiplier * pass_completion_percentage + float(df['Shot Creating Actions']) * shot_creating_actions_multiplier \n",
        "          + float(df['Dribbles Succeeded']) * successful_dribble_multiplier) +  goals_conceded * gk_df_goal_conceded_multiplier + clean_sheet * clean_sheet_def_gk_multiplier\n",
        "  elif Position == 'GK':\n",
        "        points = (float(df['Mins'])*mins_multiplier + float(df['Saves'])*gk_save_multiplier + goals_conceded * gk_df_goal_conceded_multiplier + clean_sheet * clean_sheet_def_gk_multiplier \n",
        "                    + float(df['Penalty Kicks Allowed'])*gk_penalty_allowed_multiplier + float(df['Passes over 40 yards Completed'])*gk_pass_longer_than_40_yds_multiplier + float(df['Crosses Stopped'])*gk_cross_stopped_multiplier \n",
        "                  + float(df['Defensive Actions outside Penalty Area'])*gk_defensive_action_outside_box_multiplier+ (float(df['Post Shot Expected Goals'])-float(df['Goals Allowed'])))\n",
        "  else:\n",
        "    print(\"You forgot to include this position:\", Position)\n",
        "\n",
        "  identifier = Name + \" \" + gameweek\n",
        "  points = round(points,3)\n",
        "  \n",
        "  return identifier, points\n"
      ],
      "metadata": {
        "id": "3YQvurGvTsnI"
      },
      "execution_count": 7,
      "outputs": []
    },
    {
      "cell_type": "code",
      "source": [
        "def clean_up_data(url):\n",
        "  if \"keeper\" in url:\n",
        "    player_df = get_gk_match_logs(url)\n",
        "  else:\n",
        "    player_df = get_outfield_player_match_logs(url)\n",
        "  intermediate_df = player_df.drop(['Day','Venue','Match Report'],axis=1)\n",
        "  intermediate_df = intermediate_df.fillna(value=0)\n",
        "  league_df = intermediate_df[intermediate_df['Competition'].isin(['Ligue 1','La Liga','Premier League','Serie A',\"Bundesliga\"])]\n",
        "  return league_df"
      ],
      "metadata": {
        "id": "1JgslKydmEkB"
      },
      "execution_count": 8,
      "outputs": []
    },
    {
      "cell_type": "code",
      "source": [
        "def get_scores(name):\n",
        "  url = Big_5_player_name_dict[name]\n",
        "  df = clean_up_data(url)\n",
        "  num_rows = df.shape[0]\n",
        "  \n",
        "  scores = []\n",
        "  for i in range(num_rows):\n",
        "    matchweek = df.iloc[i]['Round']\n",
        "    gw_df = df.loc[df['Round']==matchweek]\n",
        "    gw_points = calculate_game_week_points(gw_df)\n",
        "    scores.append(gw_points)\n",
        "\n",
        "  return scores"
      ],
      "metadata": {
        "id": "Qn6AD6_0mhba"
      },
      "execution_count": 33,
      "outputs": []
    },
    {
      "cell_type": "markdown",
      "source": [
        "## Main"
      ],
      "metadata": {
        "id": "7SbPSTxMK5mI"
      }
    },
    {
      "cell_type": "code",
      "source": [
        "#Run this one time to generate the dictionary of names to urls (takes some time to run so don't want to run it on every lookup)\n",
        "Big_5_url = \"https://fbref.com/en/comps/Big5/stats/players/Big-5-European-Leagues-Stats\"\n",
        "Big_5_player_name_dict = make_player_name_player_links_dict(Big_5_url)\n"
      ],
      "metadata": {
        "id": "vQlHlyvhNpff"
      },
      "execution_count": 34,
      "outputs": []
    },
    {
      "cell_type": "code",
      "source": [
        "#Main function\n",
        "\n",
        "#Input = name of the player you want the scores for as a string\n",
        "\n",
        "#Output = list of tuples of the format: (player name and matchweek , points per week\n",
        "get_scores(\"Erling Haaland\")"
      ],
      "metadata": {
        "colab": {
          "base_uri": "https://localhost:8080/"
        },
        "id": "S2DHXBw2OATv",
        "outputId": "758c2d5c-27d7-489b-e5f9-4ed5356585d2"
      },
      "execution_count": 35,
      "outputs": [
        {
          "output_type": "execute_result",
          "data": {
            "text/plain": [
              "[('Erling Haaland Matchweek 1', 17.012),\n",
              " ('Erling Haaland Matchweek 2', 6.2),\n",
              " ('Erling Haaland Matchweek 3', 12.214),\n",
              " ('Erling Haaland Matchweek 4', 21.625),\n",
              " ('Erling Haaland Matchweek 5', 21.4),\n",
              " ('Erling Haaland Matchweek 6', 13.497)]"
            ]
          },
          "metadata": {},
          "execution_count": 35
        }
      ]
    },
    {
      "cell_type": "code",
      "source": [
        "#Main function with user input\n",
        "\n",
        "#Input = User inputted player name\n",
        "\n",
        "#Output = list of tuples of the format: (player name and matchweek , points per week\n",
        "player_name = input(\"Enter the name of a player in the top 5 European Soccer Leagues: \")\n",
        "get_scores(player_name)"
      ],
      "metadata": {
        "colab": {
          "base_uri": "https://localhost:8080/"
        },
        "id": "1ImEHR5jOAQV",
        "outputId": "faf32663-6baf-4f70-8df5-aef8754f36c7"
      },
      "execution_count": 39,
      "outputs": [
        {
          "name": "stdout",
          "output_type": "stream",
          "text": [
            "Enter the name of a player in the top 5 European Soccer Leagues: Lionel Messi\n"
          ]
        },
        {
          "output_type": "execute_result",
          "data": {
            "text/plain": [
              "[('Lionel Messi Matchweek 1', 28.89),\n",
              " ('Lionel Messi Matchweek 2', 11.502),\n",
              " ('Lionel Messi Matchweek 3', 20.403),\n",
              " ('Lionel Messi Matchweek 4', 8.551),\n",
              " ('Lionel Messi Matchweek 5', 17.211),\n",
              " ('Lionel Messi Matchweek 6', 20.115)]"
            ]
          },
          "metadata": {},
          "execution_count": 39
        }
      ]
    },
    {
      "cell_type": "code",
      "source": [],
      "metadata": {
        "id": "a0RwDXQROANi"
      },
      "execution_count": null,
      "outputs": []
    },
    {
      "cell_type": "code",
      "source": [],
      "metadata": {
        "id": "xC98i-ITOAKi"
      },
      "execution_count": null,
      "outputs": []
    },
    {
      "cell_type": "code",
      "source": [],
      "metadata": {
        "id": "0Ri0iur6OAFH"
      },
      "execution_count": null,
      "outputs": []
    },
    {
      "cell_type": "code",
      "source": [],
      "metadata": {
        "id": "hJs-yS4IOABl"
      },
      "execution_count": null,
      "outputs": []
    },
    {
      "cell_type": "code",
      "source": [],
      "metadata": {
        "id": "lrT0ewiAN_-k"
      },
      "execution_count": null,
      "outputs": []
    },
    {
      "cell_type": "code",
      "source": [
        "PL_url = \"https://fbref.com/en/comps/9/stats/Premier-League-Stats\"\n",
        "Serie_A_url = \"https://fbref.com/en/comps/11/stats/Serie-A-Stats\"\n",
        "Bundesliga_url = \"https://fbref.com/en/comps/20/Bundesliga-Stats\"\n",
        "La_Liga_url = \"https://fbref.com/en/comps/12/stats/La-Liga-Stats\"\n",
        "Ligue_1_url = \"https://fbref.com/en/comps/12/stats/La-Liga-Stats\"\n",
        "\n",
        "Big_5_url = \"https://fbref.com/en/comps/Big5/stats/players/Big-5-European-Leagues-Stats\"\n",
        "\n",
        "\n",
        "\n"
      ],
      "metadata": {
        "id": "0eApklQxIpWt"
      },
      "execution_count": 23,
      "outputs": []
    }
  ]
}