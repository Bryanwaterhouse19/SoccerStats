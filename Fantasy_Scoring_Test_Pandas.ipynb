{
  "nbformat": 4,
  "nbformat_minor": 0,
  "metadata": {
    "colab": {
      "provenance": [],
      "collapsed_sections": [
        "nK11pXjUK-7x"
      ],
      "authorship_tag": "ABX9TyPWBC5aou4CS73KoW3pogsV",
      "include_colab_link": true
    },
    "kernelspec": {
      "name": "python3",
      "display_name": "Python 3"
    },
    "language_info": {
      "name": "python"
    }
  },
  "cells": [
    {
      "cell_type": "markdown",
      "metadata": {
        "id": "view-in-github",
        "colab_type": "text"
      },
      "source": [
        "<a href=\"https://colab.research.google.com/github/Bryanwaterhouse19/SoccerStats/blob/main/Fantasy_Scoring_Test_Pandas.ipynb\" target=\"_parent\"><img src=\"https://colab.research.google.com/assets/colab-badge.svg\" alt=\"Open In Colab\"/></a>"
      ]
    },
    {
      "cell_type": "markdown",
      "source": [
        "## Imports"
      ],
      "metadata": {
        "id": "nK11pXjUK-7x"
      }
    },
    {
      "cell_type": "code",
      "execution_count": 209,
      "metadata": {
        "id": "Nbk2_31PYFJh"
      },
      "outputs": [],
      "source": [
        "import pandas as pd"
      ]
    },
    {
      "cell_type": "markdown",
      "source": [
        "## Functions"
      ],
      "metadata": {
        "id": "WwM9qDbiK0_0"
      }
    },
    {
      "cell_type": "code",
      "source": [
        "def get_player_name_from_url(url):\n",
        "\n",
        "  name = url[66:len(url)-11]\n",
        "\n",
        "  name = name.replace(\"-\", \" \")\n",
        "\n",
        "  return name"
      ],
      "metadata": {
        "id": "v7yujH0FTzSs"
      },
      "execution_count": 210,
      "outputs": []
    },
    {
      "cell_type": "code",
      "source": [
        "def get_url_from_player_name(name):\n",
        "  #I want to figure out how to do this, but the random letters and numbers they put in the player's urls might make this difficult\n",
        "  \n",
        "  return"
      ],
      "metadata": {
        "id": "5E8n3msQT3oD"
      },
      "execution_count": 211,
      "outputs": []
    },
    {
      "cell_type": "code",
      "source": [
        "def get_outfield_player_match_logs(url):\n",
        "  list_of_dfs = pd.read_html(url)\n",
        "  df = list_of_dfs[0]\n",
        "  df.columns = (['Date','Day','Competition','Round','Venue','Result','Squad','Opponent','Start','Position','Mins','Goals','Assists','Penalties Made', 'Penalties Taken','Shots','Shots on Target',\n",
        "                 'Yellow Cards','Red Cards','Touches','Presses','Tackles','Interceptions','Blocks','Expected Goals', 'Non Penalty Expected Goals', 'Expected Assists','Shot Creating Actions',\n",
        "                 'Goal Creating Actions','Passes Completed','Passes Attempted','Pass Completion %','Progressive Passes','Carries','Progressive Carries','Dribbles Succeeded', 'Dribbles Attempted','Match Report'])\n",
        "  name = get_player_name_from_url(url)\n",
        "  df['Player Name'] = name\n",
        "  return df"
      ],
      "metadata": {
        "id": "vT-LuxmIYRew"
      },
      "execution_count": 212,
      "outputs": []
    },
    {
      "cell_type": "code",
      "source": [
        "def get_gk_match_logs(url):\n",
        "  list_of_dfs = pd.read_html(url)\n",
        "  df = list_of_dfs[0]\n",
        "  df.columns = (['Date','Day','Competition','Round','Venue','Result','Squad','Opponent','Start','Position','Mins','Shots on Target Against','Goals Allowed','Saves', 'Save Percentage','Clean Sheets',\n",
        "                 'Post Shot Expected Goals','Penalty Kicks Attempted','Penalty Kicks Allowed','Penalty Kicks Saved','Penalty Kicks Missed','Passes over 40 yards Completed','Passes over 40 yards Attempted',\n",
        "                 'Passes over 40 yards completion %','Passes Attempted', 'Throws Attempted', 'Percent of passes over 40 yards','Average Pass Length', 'Goal Kicks Attempted','Goal Kicks over 40 yards',\n",
        "                 'Goal Kick Average Length','Crosses Attempted','Crosses Stopped','Cross Stop %','Defensive Actions outside Penalty Area','Average Distance of Defensive Actions outside Penalty Area','Match Report'])\n",
        "  name = get_player_name_from_url(url)\n",
        "  df['Player Name'] = name\n",
        "  return df"
      ],
      "metadata": {
        "id": "F3j73ZZWV5ns"
      },
      "execution_count": 213,
      "outputs": []
    },
    {
      "cell_type": "code",
      "source": [
        "def calculate_game_week_points(df):\n",
        "  #establish all the weights for different stats\n",
        "\n",
        "  #Outfield Multipliers\n",
        "  mins_multiplier = 0.025\n",
        "  goals_multiplier = 5\n",
        "  assists_multiplier = 2.5\n",
        "  penalty_miss_multiplier = -2\n",
        "  shots_on_target_multiplier = 0.25\n",
        "  yellow_card_multiplier = -1\n",
        "  red_card_multiplier = -3\n",
        "  press_multiplier = 0.25\n",
        "  tackle_multiplier = 0.25\n",
        "  interception_multiplier = 0.25\n",
        "  block_multiplier = 0.25\n",
        "  no_penalty_xG_multiplier = 0.5\n",
        "  expected_assist_multiplier = 0.25\n",
        "  shot_creating_actions_multiplier = 0.25\n",
        "  passes_completed_multiplier = 0.1 #will multiply by pass completion percentage as well\n",
        "  successful_dribble_multiplier = 0.25\n",
        "\n",
        "  #Goalkeeper/def multipliers\n",
        "  clean_sheet_def_gk_multiplier = 4\n",
        "  gk_df_goal_conceded_multiplier = -1\n",
        "\n",
        "  #Just gk multipliers\n",
        "  penalty_save_multiplier = 4\n",
        "  gk_save_multiplier = 2\n",
        "  gk_penalty_allowed_multiplier = -1\n",
        "  gk_pass_longer_than_40_yds_multiplier = 0.5\n",
        "  gk_cross_stopped_multiplier = 1\n",
        "  gk_defensive_action_outside_box_multiplier = 1\n",
        "\n",
        "  ######calculate game week points##########\n",
        "\n",
        "  Position = df.iloc[0]['Position']\n",
        "  #sometimes FBref lists positions like \"RW,WB\", or \"CM,DM\", I don't want to deal with that so I'm just going to take the first position\n",
        "  Position = Position[:2]\n",
        "  Name = df.iloc[0]['Player Name']\n",
        "  gameweek = df.iloc[0]['Round']\n",
        "\n",
        "  clean_sheet = False\n",
        "  result = df.iloc[0]['Result']\n",
        "  goals_conceded = int(result[-1])\n",
        "  if goals_conceded == 0:\n",
        "    clean_sheet = True\n",
        "\n",
        "  \n",
        "  #attackers and midfielders get scored the same\n",
        "  if Position in ['FW','RW','LW','CM','DM','MF','AM','RM','LM']:\n",
        "    Penalties_missed = float(df['Penalties Taken']) - float(df['Penalties Made'])\n",
        "    pass_completion_percentage = float(df['Pass Completion %']) / 100\n",
        "\n",
        "    points = (float(df['Mins'])*mins_multiplier + float(df['Goals'])*goals_multiplier + float(df['Assists'])*assists_multiplier + Penalties_missed * penalty_miss_multiplier \n",
        "              + float(df['Shots on Target'])*shots_on_target_multiplier + float(df['Yellow Cards']) * yellow_card_multiplier + float(df['Red Cards']) * red_card_multiplier\n",
        "              + float(df['Presses']) * press_multiplier + float(df['Tackles']) * tackle_multiplier + float(df['Interceptions']) * interception_multiplier + float(df['Blocks']) * block_multiplier \n",
        "              + float(df['Non Penalty Expected Goals']) * no_penalty_xG_multiplier + float(df['Expected Assists']) * expected_assist_multiplier \n",
        "              + float(df['Passes Completed']) * passes_completed_multiplier * pass_completion_percentage + float(df['Shot Creating Actions']) * shot_creating_actions_multiplier \n",
        "              + float(df['Dribbles Succeeded']) * successful_dribble_multiplier)\n",
        "    \n",
        "  #Defenders get scored a little differently\n",
        "  elif Position in ['CB','LB','RB','WB','DF']:\n",
        "    Penalties_missed = float(df['Penalties Taken']) - float(df['Penalties Made'])\n",
        "    pass_completion_percentage = float(df['Pass Completion %']) / 100\n",
        "    points = (float(df['Mins'])*mins_multiplier + float(df['Goals'])*goals_multiplier + float(df['Assists'])*assists_multiplier + Penalties_missed * penalty_miss_multiplier \n",
        "          + float(df['Shots on Target'])*shots_on_target_multiplier + float(df['Yellow Cards']) * yellow_card_multiplier + float(df['Red Cards']) * red_card_multiplier\n",
        "          + float(df['Presses']) * press_multiplier + float(df['Tackles']) * tackle_multiplier + float(df['Interceptions']) * interception_multiplier + float(df['Blocks']) * block_multiplier \n",
        "          + float(df['Non Penalty Expected Goals']) * no_penalty_xG_multiplier + float(df['Expected Assists']) * expected_assist_multiplier \n",
        "          + float(df['Passes Completed']) * passes_completed_multiplier * pass_completion_percentage + float(df['Shot Creating Actions']) * shot_creating_actions_multiplier \n",
        "          + float(df['Dribbles Succeeded']) * successful_dribble_multiplier) +  goals_conceded * gk_df_goal_conceded_multiplier + clean_sheet * clean_sheet_def_gk_multiplier\n",
        "  elif Position == 'GK':\n",
        "        points = (float(df['Mins'])*mins_multiplier + float(df['Saves'])*gk_save_multiplier + goals_conceded * gk_df_goal_conceded_multiplier + clean_sheet * clean_sheet_def_gk_multiplier \n",
        "                    + float(df['Penalty Kicks Allowed'])*gk_penalty_allowed_multiplier + float(df['Passes over 40 yards Completed'])*gk_pass_longer_than_40_yds_multiplier + float(df['Crosses Stopped'])*gk_cross_stopped_multiplier \n",
        "                  + float(df['Defensive Actions outside Penalty Area'])*gk_defensive_action_outside_box_multiplier+ (float(df['Post Shot Expected Goals'])-float(df['Goals Allowed'])))\n",
        "  else:\n",
        "    print(\"You forgot to include this position:\", Position)\n",
        "\n",
        "  identifier = Name + \" \" + gameweek\n",
        "  points = round(points,3)\n",
        "  \n",
        "  return identifier, points\n"
      ],
      "metadata": {
        "id": "3YQvurGvTsnI"
      },
      "execution_count": 218,
      "outputs": []
    },
    {
      "cell_type": "code",
      "source": [
        "def clean_up_data(url):\n",
        "  if \"keeper\" in url:\n",
        "    player_df = get_gk_match_logs(url)\n",
        "  else:\n",
        "    player_df = get_outfield_player_match_logs(url)\n",
        "  intermediate_df = player_df.drop(['Day','Venue','Match Report'],axis=1)\n",
        "  intermediate_df = intermediate_df.fillna(value=0)\n",
        "  league_df = intermediate_df[intermediate_df['Competition'].isin(['Ligue 1','La Liga','Premier League','Serie A',\"Bundesliga\"])]\n",
        "  return league_df"
      ],
      "metadata": {
        "id": "1JgslKydmEkB"
      },
      "execution_count": 221,
      "outputs": []
    },
    {
      "cell_type": "code",
      "source": [
        "def get_scores(url):\n",
        "  df = clean_up_data(url)\n",
        "  num_rows = df.shape[0]\n",
        "  \n",
        "  scores = []\n",
        "  for i in range(num_rows):\n",
        "    matchweek = df.iloc[i]['Round']\n",
        "    gw_df = df.loc[df['Round']==matchweek]\n",
        "    gw_points = calculate_game_week_points(gw_df)\n",
        "    scores.append(gw_points)\n",
        "\n",
        "  return scores"
      ],
      "metadata": {
        "id": "Qn6AD6_0mhba"
      },
      "execution_count": 220,
      "outputs": []
    },
    {
      "cell_type": "markdown",
      "source": [
        "## Main"
      ],
      "metadata": {
        "id": "7SbPSTxMK5mI"
      }
    },
    {
      "cell_type": "code",
      "source": [
        "url = 'https://fbref.com/en/players/42fd9c7f/matchlogs/2022-2023/summary/Kylian-Mbappe-Match-Logs'\n",
        "url2 = 'https://fbref.com/en/players/70d74ece/matchlogs/2022-2023/summary/Karim-Benzema-Match-Logs'\n",
        "url3 = 'https://fbref.com/en/players/1f44ac21/matchlogs/2022-2023/summary/Erling-Haaland-Match-Logs'\n",
        "url4 = 'https://fbref.com/en/players/aef6e670/matchlogs/2022-2023/summary/Presnel-Kimpembe-Match-Logs'\n",
        "url5 = 'https://fbref.com/en/players/da974c7b/matchlogs/2022-2023/summary/Kalidou-Koulibaly-Match-Logs'\n",
        "url6 = 'https://fbref.com/en/players/6b625ac2/matchlogs/2022-2023/keeper/Illan-Meslier-Match-Logs'"
      ],
      "metadata": {
        "id": "j9-xquM1YLNW"
      },
      "execution_count": 207,
      "outputs": []
    },
    {
      "cell_type": "code",
      "source": [
        "#Main function\n",
        "\n",
        "#Input = url of the player you want\n",
        "\n",
        "#Output = list of tuples of the format: (player name and matchweek , points per week)\n",
        "get_scores(url5)"
      ],
      "metadata": {
        "colab": {
          "base_uri": "https://localhost:8080/"
        },
        "id": "jVZBQfLjmgwk",
        "outputId": "4f332f11-2a16-423e-b35e-29c967a2af97"
      },
      "execution_count": 223,
      "outputs": [
        {
          "output_type": "execute_result",
          "data": {
            "text/plain": [
              "[('Kalidou Koulibaly Matchweek 1', 15.133),\n",
              " ('Kalidou Koulibaly Matchweek 2', 15.547),\n",
              " ('Kalidou Koulibaly Matchweek 3', 4.223),\n",
              " ('Kalidou Koulibaly Matchweek 5', 6.627),\n",
              " ('Kalidou Koulibaly Matchweek 6', 10.042)]"
            ]
          },
          "metadata": {},
          "execution_count": 223
        }
      ]
    }
  ]
}